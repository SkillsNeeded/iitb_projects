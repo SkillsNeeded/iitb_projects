{
 "cells": [
  {
   "cell_type": "code",
   "execution_count": null,
   "id": "5f0a37e1",
   "metadata": {},
   "outputs": [],
   "source": [
    "for i in range(5):\n",
    "    print(\"Hello, World!\")"
   ]
  }
 ],
 "metadata": {
  "language_info": {
   "name": "python"
  }
 },
 "nbformat": 4,
 "nbformat_minor": 5
}
